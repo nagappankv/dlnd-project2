{
 "cells": [
  {
   "cell_type": "markdown",
   "metadata": {
    "collapsed": true,
    "deletable": true,
    "editable": true
   },
   "source": [
    "# Image Classification\n",
    "In this project, you'll classify images from the [CIFAR-10 dataset](https://www.cs.toronto.edu/~kriz/cifar.html).  The dataset consists of airplanes, dogs, cats, and other objects. You'll preprocess the images, then train a convolutional neural network on all the samples. The images need to be normalized and the labels need to be one-hot encoded.  You'll get to apply what you learned and build a convolutional, max pooling, dropout, and fully connected layers.  At the end, you'll get to see your neural network's predictions on the sample images.\n",
    "## Get the Data\n",
    "Run the following cell to download the [CIFAR-10 dataset for python](https://www.cs.toronto.edu/~kriz/cifar-10-python.tar.gz)."
   ]
  },
  {
   "cell_type": "code",
   "execution_count": 2,
   "metadata": {
    "collapsed": false,
    "deletable": true,
    "editable": true
   },
   "outputs": [
    {
     "name": "stdout",
     "output_type": "stream",
     "text": [
      "All files found!\n"
     ]
    }
   ],
   "source": [
    "\"\"\"\n",
    "DON'T MODIFY ANYTHING IN THIS CELL THAT IS BELOW THIS LINE\n",
    "\"\"\"\n",
    "from urllib.request import urlretrieve\n",
    "from os.path import isfile, isdir\n",
    "from tqdm import tqdm\n",
    "import problem_unittests as tests\n",
    "import tarfile\n",
    "\n",
    "cifar10_dataset_folder_path = 'cifar-10-batches-py'\n",
    "\n",
    "# Use Floyd's cifar-10 dataset if present\n",
    "floyd_cifar10_location = '/input/cifar-10/python.tar.gz'\n",
    "if isfile(floyd_cifar10_location):\n",
    "    tar_gz_path = floyd_cifar10_location\n",
    "else:\n",
    "    tar_gz_path = 'cifar-10-python.tar.gz'\n",
    "\n",
    "class DLProgress(tqdm):\n",
    "    last_block = 0\n",
    "\n",
    "    def hook(self, block_num=1, block_size=1, total_size=None):\n",
    "        self.total = total_size\n",
    "        self.update((block_num - self.last_block) * block_size)\n",
    "        self.last_block = block_num\n",
    "\n",
    "if not isfile(tar_gz_path):\n",
    "    with DLProgress(unit='B', unit_scale=True, miniters=1, desc='CIFAR-10 Dataset') as pbar:\n",
    "        urlretrieve(\n",
    "            'https://www.cs.toronto.edu/~kriz/cifar-10-python.tar.gz',\n",
    "            tar_gz_path,\n",
    "            pbar.hook)\n",
    "\n",
    "if not isdir(cifar10_dataset_folder_path):\n",
    "    with tarfile.open(tar_gz_path) as tar:\n",
    "        tar.extractall()\n",
    "        tar.close()\n",
    "\n",
    "\n",
    "tests.test_folder_path(cifar10_dataset_folder_path)"
   ]
  },
  {
   "cell_type": "markdown",
   "metadata": {
    "deletable": true,
    "editable": true
   },
   "source": [
    "## Explore the Data\n",
    "The dataset is broken into batches to prevent your machine from running out of memory.  The CIFAR-10 dataset consists of 5 batches, named `data_batch_1`, `data_batch_2`, etc.. Each batch contains the labels and images that are one of the following:\n",
    "* airplane\n",
    "* automobile\n",
    "* bird\n",
    "* cat\n",
    "* deer\n",
    "* dog\n",
    "* frog\n",
    "* horse\n",
    "* ship\n",
    "* truck\n",
    "\n",
    "Understanding a dataset is part of making predictions on the data.  Play around with the code cell below by changing the `batch_id` and `sample_id`. The `batch_id` is the id for a batch (1-5). The `sample_id` is the id for a image and label pair in the batch.\n",
    "\n",
    "Ask yourself \"What are all possible labels?\", \"What is the range of values for the image data?\", \"Are the labels in order or random?\".  Answers to questions like these will help you preprocess the data and end up with better predictions."
   ]
  },
  {
   "cell_type": "code",
   "execution_count": 3,
   "metadata": {
    "collapsed": false,
    "deletable": true,
    "editable": true
   },
   "outputs": [
    {
     "name": "stdout",
     "output_type": "stream",
     "text": [
      "\n",
      "Stats of batch 1:\n",
      "Samples: 10000\n",
      "Label Counts: {0: 1005, 1: 974, 2: 1032, 3: 1016, 4: 999, 5: 937, 6: 1030, 7: 1001, 8: 1025, 9: 981}\n",
      "First 20 Labels: [6, 9, 9, 4, 1, 1, 2, 7, 8, 3, 4, 7, 7, 2, 9, 9, 9, 3, 2, 6]\n",
      "\n",
      "Example of Image 5:\n",
      "Image - Min Value: 0 Max Value: 252\n",
      "Image - Shape: (32, 32, 3)\n",
      "Label - Label Id: 1 Name: automobile\n"
     ]
    },
    {
     "data": {
      "image/png": "[encoded data removed]",
      "text/plain": [
       "<matplotlib.figure.Figure at 0x7fcc544e15c0>"
      ]
     },
     "metadata": {
      "image/png": {
       "height": 250,
       "width": 253
      }
     },
     "output_type": "display_data"
    }
   ],
   "source": [
    "%matplotlib inline\n",
    "%config InlineBackend.figure_format = 'retina'\n",
    "\n",
    "import helper\n",
    "import numpy as np\n",
    "\n",
    "# Explore the dataset\n",
    "batch_id = 1\n",
    "sample_id = 5\n",
    "helper.display_stats(cifar10_dataset_folder_path, batch_id, sample_id)"
   ]
  },
  {
   "cell_type": "markdown",
   "metadata": {
    "deletable": true,
    "editable": true
   },
   "source": [
    "## Implement Preprocess Functions\n",
    "### Normalize\n",
    "In the cell below, implement the `normalize` function to take in image data, `x`, and return it as a normalized Numpy array. The values should be in the range of 0 to 1, inclusive.  The return object should be the same shape as `x`."
   ]
  },
  {
   "cell_type": "code",
   "execution_count": 4,
   "metadata": {
    "collapsed": false,
    "deletable": true,
    "editable": true
   },
   "outputs": [
    {
     "name": "stdout",
     "output_type": "stream",
     "text": [
      "Tests Passed\n"
     ]
    }
   ],
   "source": [
    "def normalize(x):\n",
    "    \"\"\"\n",
    "    Normalize a list of sample image data in the range of 0 to 1\n",
    "    : x: List of image data.  The image shape is (32, 32, 3)\n",
    "    : return: Numpy array of normalize data\n",
    "    \"\"\"\n",
    "    # Implement Function\n",
    "    return np.array(x/255)\n",
    "\n",
    "\n",
    "\"\"\"\n",
    "DON'T MODIFY ANYTHING IN THIS CELL THAT IS BELOW THIS LINE\n",
    "\"\"\"\n",
    "tests.test_normalize(normalize)"
   ]
  },
  {
   "cell_type": "markdown",
   "metadata": {
    "deletable": true,
    "editable": true
   },
   "source": [
    "### One-hot encode\n",
    "Just like the previous code cell, you'll be implementing a function for preprocessing.  This time, you'll implement the `one_hot_encode` function. The input, `x`, are a list of labels.  Implement the function to return the list of labels as One-Hot encoded Numpy array.  The possible values for labels are 0 to 9. The one-hot encoding function should return the same encoding for each value between each call to `one_hot_encode`.  Make sure to save the map of encodings outside the function.\n",
    "\n",
    "Hint: Don't reinvent the wheel."
   ]
  },
  {
   "cell_type": "code",
   "execution_count": 5,
   "metadata": {
    "collapsed": false,
    "deletable": true,
    "editable": true
   },
   "outputs": [
    {
     "name": "stdout",
     "output_type": "stream",
     "text": [
      "Tests Passed\n"
     ]
    }
   ],
   "source": [
    "from sklearn import preprocessing\n",
    "def one_hot_encode(x):\n",
    "    \"\"\"\n",
    "    One hot encode a list of sample labels. Return a one-hot encoded vector for each label.\n",
    "    : x: List of sample Labels\n",
    "    : return: Numpy array of one-hot encoded labels\n",
    "    \"\"\"\n",
    "    # Create the encoder\n",
    "    lb = preprocessing.LabelBinarizer()\n",
    "    # Here the encoder finds the classes and assigns one-hot vectors \n",
    "    lb.fit(range(10))\n",
    "\n",
    "    return lb.transform(x)\n",
    "\n",
    "\n",
    "\"\"\"\n",
    "DON'T MODIFY ANYTHING IN THIS CELL THAT IS BELOW THIS LINE\n",
    "\"\"\"\n",
    "tests.test_one_hot_encode(one_hot_encode)"
   ]
  },
  {
   "cell_type": "markdown",
   "metadata": {
    "deletable": true,
    "editable": true
   },
   "source": [
    "### Randomize Data\n",
    "As you saw from exploring the data above, the order of the samples are randomized.  It doesn't hurt to randomize it again, but you don't need to for this dataset."
   ]
  },
  {
   "cell_type": "markdown",
   "metadata": {
    "deletable": true,
    "editable": true
   },
   "source": [
    "## Preprocess all the data and save it\n",
    "Running the code cell below will preprocess all the CIFAR-10 data and save it to file. The code below also uses 10% of the training data for validation."
   ]
  },
  {
   "cell_type": "code",
   "execution_count": 6,
   "metadata": {
    "collapsed": false,
    "deletable": true,
    "editable": true
   },
   "outputs": [],
   "source": [
    "\"\"\"\n",
    "DON'T MODIFY ANYTHING IN THIS CELL\n",
    "\"\"\"\n",
    "# Preprocess Training, Validation, and Testing Data\n",
    "helper.preprocess_and_save_data(cifar10_dataset_folder_path, normalize, one_hot_encode)"
   ]
  },
  {
   "cell_type": "markdown",
   "metadata": {
    "deletable": true,
    "editable": true
   },
   "source": [
    "# Check Point\n",
    "This is your first checkpoint.  If you ever decide to come back to this notebook or have to restart the notebook, you can start from here.  The preprocessed data has been saved to disk."
   ]
  },
  {
   "cell_type": "code",
   "execution_count": 7,
   "metadata": {
    "collapsed": true,
    "deletable": true,
    "editable": true
   },
   "outputs": [],
   "source": [
    "\"\"\"\n",
    "DON'T MODIFY ANYTHING IN THIS CELL\n",
    "\"\"\"\n",
    "import pickle\n",
    "import problem_unittests as tests\n",
    "import helper\n",
    "\n",
    "# Load the Preprocessed Validation data\n",
    "valid_features, valid_labels = pickle.load(open('preprocess_validation.p', mode='rb'))"
   ]
  },
  {
   "cell_type": "markdown",
   "metadata": {
    "deletable": true,
    "editable": true
   },
   "source": [
    "## Build the network\n",
    "For the neural network, you'll build each layer into a function.  Most of the code you've seen has been outside of functions. To test your code more thoroughly, we require that you put each layer in a function.  This allows us to give you better feedback and test for simple mistakes using our unittests before you submit your project.\n",
    "\n",
    ">**Note:** If you're finding it hard to dedicate enough time for this course each week, we've provided a small shortcut to this part of the project. In the next couple of problems, you'll have the option to use classes from the [TensorFlow Layers](https://www.tensorflow.org/api_docs/python/tf/layers) or [TensorFlow Layers (contrib)](https://www.tensorflow.org/api_guides/python/contrib.layers) packages to build each layer, except the layers you build in the \"Convolutional and Max Pooling Layer\" section.  TF Layers is similar to Keras's and TFLearn's abstraction to layers, so it's easy to pickup.\n",
    "\n",
    ">However, if you would like to get the most out of this course, try to solve all the problems _without_ using anything from the TF Layers packages. You **can** still use classes from other packages that happen to have the same name as ones you find in TF Layers! For example, instead of using the TF Layers version of the `conv2d` class, [tf.layers.conv2d](https://www.tensorflow.org/api_docs/python/tf/layers/conv2d), you would want to use the TF Neural Network version of `conv2d`, [tf.nn.conv2d](https://www.tensorflow.org/api_docs/python/tf/nn/conv2d). \n",
    "\n",
    "Let's begin!\n",
    "\n",
    "### Input\n",
    "The neural network needs to read the image data, one-hot encoded labels, and dropout keep probability. Implement the following functions\n",
    "* Implement `neural_net_image_input`\n",
    " * Return a [TF Placeholder](https://www.tensorflow.org/api_docs/python/tf/placeholder)\n",
    " * Set the shape using `image_shape` with batch size set to `None`.\n",
    " * Name the TensorFlow placeholder \"x\" using the TensorFlow `name` parameter in the [TF Placeholder](https://www.tensorflow.org/api_docs/python/tf/placeholder).\n",
    "* Implement `neural_net_label_input`\n",
    " * Return a [TF Placeholder](https://www.tensorflow.org/api_docs/python/tf/placeholder)\n",
    " * Set the shape using `n_classes` with batch size set to `None`.\n",
    " * Name the TensorFlow placeholder \"y\" using the TensorFlow `name` parameter in the [TF Placeholder](https://www.tensorflow.org/api_docs/python/tf/placeholder).\n",
    "* Implement `neural_net_keep_prob_input`\n",
    " * Return a [TF Placeholder](https://www.tensorflow.org/api_docs/python/tf/placeholder) for dropout keep probability.\n",
    " * Name the TensorFlow placeholder \"keep_prob\" using the TensorFlow `name` parameter in the [TF Placeholder](https://www.tensorflow.org/api_docs/python/tf/placeholder).\n",
    "\n",
    "These names will be used at the end of the project to load your saved model.\n",
    "\n",
    "Note: `None` for shapes in TensorFlow allow for a dynamic size."
   ]
  },
  {
   "cell_type": "code",
   "execution_count": 8,
   "metadata": {
    "collapsed": false,
    "deletable": true,
    "editable": true
   },
   "outputs": [
    {
     "name": "stdout",
     "output_type": "stream",
     "text": [
      "Image Input Tests Passed.\n",
      "Label Input Tests Passed.\n",
      "Keep Prob Tests Passed.\n"
     ]
    }
   ],
   "source": [
    "import tensorflow as tf\n",
    "\n",
    "def neural_net_image_input(image_shape):\n",
    "    \"\"\"\n",
    "    Return a Tensor for a bach of image input\n",
    "    : image_shape: Shape of the images\n",
    "    : return: Tensor for image input.\n",
    "    \"\"\"\n",
    "    batchSize = None\n",
    "    x = tf.placeholder(tf.float32,shape=[batchSize,*image_shape],name='x')    \n",
    "    return x\n",
    "\n",
    "\n",
    "def neural_net_label_input(n_classes):\n",
    "    \"\"\"\n",
    "    Return a Tensor for a batch of label input\n",
    "    : n_classes: Number of classes\n",
    "    : return: Tensor for label input.\n",
    "    \"\"\"\n",
    "    batchSize = None\n",
    "    y = tf.placeholder(tf.float32,shape=[batchSize,n_classes],name='y') \n",
    "    return y\n",
    "\n",
    "\n",
    "def neural_net_keep_prob_input():\n",
    "    \"\"\"\n",
    "    Return a Tensor for keep probability\n",
    "    : return: Tensor for keep probability.\n",
    "    \"\"\"\n",
    "    keep_prob = tf.placeholder(tf.float32,name='keep_prob')\n",
    "    return keep_prob\n",
    "\n",
    "\n",
    "\"\"\"\n",
    "DON'T MODIFY ANYTHING IN THIS CELL THAT IS BELOW THIS LINE\n",
    "\"\"\"\n",
    "tf.reset_default_graph()\n",
    "tests.test_nn_image_inputs(neural_net_image_input)\n",
    "tests.test_nn_label_inputs(neural_net_label_input)\n",
    "tests.test_nn_keep_prob_inputs(neural_net_keep_prob_input)"
   ]
  },
  {
   "cell_type": "markdown",
   "metadata": {
    "deletable": true,
    "editable": true
   },
   "source": [
    "### Convolution and Max Pooling Layer\n",
    "Convolution layers have a lot of success with images. For this code cell, you should implement the function `conv2d_maxpool` to apply convolution then max pooling:\n",
    "* Create the weight and bias using `conv_ksize`, `conv_num_outputs` and the shape of `x_tensor`.\n",
    "* Apply a convolution to `x_tensor` using weight and `conv_strides`.\n",
    " * We recommend you use same padding, but you're welcome to use any padding.\n",
    "* Add bias\n",
    "* Add a nonlinear activation to the convolution.\n",
    "* Apply Max Pooling using `pool_ksize` and `pool_strides`.\n",
    " * We recommend you use same padding, but you're welcome to use any padding.\n",
    "\n",
    "**Note:** You **can't** use [TensorFlow Layers](https://www.tensorflow.org/api_docs/python/tf/layers) or [TensorFlow Layers (contrib)](https://www.tensorflow.org/api_guides/python/contrib.layers) for **this** layer, but you can still use TensorFlow's [Neural Network](https://www.tensorflow.org/api_docs/python/tf/nn) package. You may still use the shortcut option for all the **other** layers."
   ]
  },
  {
   "cell_type": "code",
   "execution_count": 9,
   "metadata": {
    "collapsed": false,
    "deletable": true,
    "editable": true
   },
   "outputs": [
    {
     "name": "stdout",
     "output_type": "stream",
     "text": [
      "Tests Passed\n"
     ]
    }
   ],
   "source": [
    "def conv2d_maxpool(x_tensor, conv_num_outputs, conv_ksize, conv_strides, pool_ksize, pool_strides):\n",
    "    \"\"\"\n",
    "    Apply convolution then max pooling to x_tensor\n",
    "    :param x_tensor: TensorFlow Tensor\n",
    "    :param conv_num_outputs: Number of outputs for the convolutional layer\n",
    "    :param conv_ksize: kernal size 2-D Tuple for the convolutional layer\n",
    "    :param conv_strides: Stride 2-D Tuple for convolution\n",
    "    :param pool_ksize: kernal size 2-D Tuple for pool\n",
    "    :param pool_strides: Stride 2-D Tuple for pool\n",
    "    : return: A tensor that represents convolution and max pooling of x_tensor\n",
    "    \"\"\"\n",
    "    # Create the weight and bias using conv_ksize, conv_num_outputs and the shape of x_tensor.\n",
    "    tensor_shape = x_tensor.get_shape().as_list()\n",
    "    weight = tf.Variable(tf.truncated_normal(shape=[*conv_ksize,tensor_shape[3],conv_num_outputs],stddev=0.1))\n",
    "    bias = tf.Variable(tf.zeros(conv_num_outputs))\n",
    "    \n",
    "    #Apply a convolution to x_tensor using weight and conv_strides. Same padding is recommended\n",
    "    conv_layer = tf.nn.conv2d(x_tensor,weight,[1,*conv_strides,1],padding='SAME')\n",
    "    \n",
    "    #Add bias\n",
    "    conv_layer = tf.nn.bias_add(conv_layer,bias)\n",
    "    \n",
    "    #Add a nonlinear activation to the convolution.\n",
    "    conv_layer = tf.nn.relu(conv_layer)\n",
    "    \n",
    "    #Apply Max Pooling using pool_ksize and pool_strides.Same padding is recommended\n",
    "    conv_layer=tf.nn.max_pool(conv_layer,[1,*pool_ksize,1],[1,*pool_strides,1],padding='SAME')\n",
    "    \n",
    "    return conv_layer \n",
    "\n",
    "\n",
    "\"\"\"\n",
    "DON'T MODIFY ANYTHING IN THIS CELL THAT IS BELOW THIS LINE\n",
    "\"\"\"\n",
    "tests.test_con_pool(conv2d_maxpool)"
   ]
  },
  {
   "cell_type": "markdown",
   "metadata": {
    "deletable": true,
    "editable": true
   },
   "source": [
    "### Flatten Layer\n",
    "Implement the `flatten` function to change the dimension of `x_tensor` from a 4-D tensor to a 2-D tensor.  The output should be the shape (*Batch Size*, *Flattened Image Size*). Shortcut option: you can use classes from the [TensorFlow Layers](https://www.tensorflow.org/api_docs/python/tf/layers) or [TensorFlow Layers (contrib)](https://www.tensorflow.org/api_guides/python/contrib.layers) packages for this layer. For more of a challenge, only use other TensorFlow packages."
   ]
  },
  {
   "cell_type": "code",
   "execution_count": 10,
   "metadata": {
    "collapsed": false,
    "deletable": true,
    "editable": true
   },
   "outputs": [
    {
     "name": "stdout",
     "output_type": "stream",
     "text": [
      "Tests Passed\n"
     ]
    }
   ],
   "source": [
    "def flatten(x_tensor):\n",
    "    \"\"\"\n",
    "    Flatten x_tensor to (Batch Size, Flattened Image Size)\n",
    "    : x_tensor: A tensor of size (Batch Size, ...), where ... are the image dimensions.\n",
    "    : return: A tensor of size (Batch Size, Flattened Image Size).\n",
    "    \"\"\"\n",
    "    tensor_shape = x_tensor.get_shape().as_list()\n",
    "    return tf.reshape(x_tensor, [-1, tensor_shape[1]*tensor_shape[2]*tensor_shape[3]])\n",
    "\n",
    "\n",
    "\"\"\"\n",
    "DON'T MODIFY ANYTHING IN THIS CELL THAT IS BELOW THIS LINE\n",
    "\"\"\"\n",
    "tests.test_flatten(flatten)"
   ]
  },
  {
   "cell_type": "markdown",
   "metadata": {
    "deletable": true,
    "editable": true
   },
   "source": [
    "### Fully-Connected Layer\n",
    "Implement the `fully_conn` function to apply a fully connected layer to `x_tensor` with the shape (*Batch Size*, *num_outputs*). Shortcut option: you can use classes from the [TensorFlow Layers](https://www.tensorflow.org/api_docs/python/tf/layers) or [TensorFlow Layers (contrib)](https://www.tensorflow.org/api_guides/python/contrib.layers) packages for this layer. For more of a challenge, only use other TensorFlow packages."
   ]
  },
  {
   "cell_type": "code",
   "execution_count": 11,
   "metadata": {
    "collapsed": false,
    "deletable": true,
    "editable": true
   },
   "outputs": [
    {
     "name": "stdout",
     "output_type": "stream",
     "text": [
      "Tests Passed\n"
     ]
    }
   ],
   "source": [
    "def fully_conn(x_tensor, num_outputs):\n",
    "    \"\"\"\n",
    "    Apply a fully connected layer to x_tensor using weight and bias\n",
    "    : x_tensor: A 2-D tensor where the first dimension is batch size.\n",
    "    : num_outputs: The number of output that the new tensor should be.\n",
    "    : return: A 2-D tensor where the second dimension is num_outputs.\n",
    "    \"\"\"\n",
    "    tensor_shape = x_tensor.get_shape().as_list()\n",
    "    num_inputs = tensor_shape[1]\n",
    "    weight = tf.Variable(tf.truncated_normal(shape=(num_inputs,num_outputs),stddev=0.1))\n",
    "    bias = tf.Variable(tf.zeros(num_outputs))\n",
    "    \n",
    "    full_layer = tf.matmul(x_tensor,weight)\n",
    "    full_layer = tf.nn.bias_add(full_layer,bias)\n",
    "    full_layer = tf.nn.relu(full_layer)\n",
    "    return full_layer\n",
    "\n",
    "\"\"\"\n",
    "DON'T MODIFY ANYTHING IN THIS CELL THAT IS BELOW THIS LINE\n",
    "\"\"\"\n",
    "tests.test_fully_conn(fully_conn)"
   ]
  },
  {
   "cell_type": "markdown",
   "metadata": {
    "deletable": true,
    "editable": true
   },
   "source": [
    "### Output Layer\n",
    "Implement the `output` function to apply a fully connected layer to `x_tensor` with the shape (*Batch Size*, *num_outputs*). Shortcut option: you can use classes from the [TensorFlow Layers](https://www.tensorflow.org/api_docs/python/tf/layers) or [TensorFlow Layers (contrib)](https://www.tensorflow.org/api_guides/python/contrib.layers) packages for this layer. For more of a challenge, only use other TensorFlow packages.\n",
    "\n",
    "**Note:** Activation, softmax, or cross entropy should **not** be applied to this."
   ]
  },
  {
   "cell_type": "code",
   "execution_count": 12,
   "metadata": {
    "collapsed": false,
    "deletable": true,
    "editable": true
   },
   "outputs": [
    {
     "name": "stdout",
     "output_type": "stream",
     "text": [
      "Tests Passed\n"
     ]
    }
   ],
   "source": [
    "def output(x_tensor, num_outputs):\n",
    "    \"\"\"\n",
    "    Apply a output layer to x_tensor using weight and bias\n",
    "    : x_tensor: A 2-D tensor where the first dimension is batch size.\n",
    "    : num_outputs: The number of output that the new tensor should be.\n",
    "    : return: A 2-D tensor where the second dimension is num_outputs.\n",
    "    \"\"\"\n",
    "    tensor_shape = x_tensor.get_shape().as_list()\n",
    "    num_inputs = tensor_shape[1]\n",
    "    weight = tf.Variable(tf.truncated_normal(shape=(num_inputs,num_outputs),stddev=0.1))\n",
    "    bias = tf.Variable(tf.zeros(num_outputs))\n",
    "    \n",
    "    output_layer = tf.matmul(x_tensor,weight)\n",
    "    output_layer = tf.nn.bias_add(output_layer,bias)\n",
    "    return output_layer\n",
    "\n",
    "\"\"\"\n",
    "DON'T MODIFY ANYTHING IN THIS CELL THAT IS BELOW THIS LINE\n",
    "\"\"\"\n",
    "tests.test_output(output)"
   ]
  },
  {
   "cell_type": "markdown",
   "metadata": {
    "deletable": true,
    "editable": true
   },
   "source": [
    "### Create Convolutional Model\n",
    "Implement the function `conv_net` to create a convolutional neural network model. The function takes in a batch of images, `x`, and outputs logits.  Use the layers you created above to create this model:\n",
    "\n",
    "* Apply 1, 2, or 3 Convolution and Max Pool layers\n",
    "* Apply a Flatten Layer\n",
    "* Apply 1, 2, or 3 Fully Connected Layers\n",
    "* Apply an Output Layer\n",
    "* Return the output\n",
    "* Apply [TensorFlow's Dropout](https://www.tensorflow.org/api_docs/python/tf/nn/dropout) to one or more layers in the model using `keep_prob`. "
   ]
  },
  {
   "cell_type": "code",
   "execution_count": 13,
   "metadata": {
    "collapsed": false,
    "deletable": true,
    "editable": true
   },
   "outputs": [
    {
     "name": "stdout",
     "output_type": "stream",
     "text": [
      "Neural Network Built!\n"
     ]
    }
   ],
   "source": [
    "def conv_net(x, keep_prob):\n",
    "    \"\"\"\n",
    "    Create a convolutional neural network model\n",
    "    : x: Placeholder tensor that holds image data.\n",
    "    : keep_prob: Placeholder tensor that hold dropout keep probability.\n",
    "    : return: Tensor that represents logits\n",
    "    \"\"\"\n",
    "    # Apply 1, 2, or 3 Convolution and Max Pool layers\n",
    "    #    Play around with different number of outputs, kernel size and stride\n",
    "    # Function Definition from Above:\n",
    "    #    conv2d_maxpool(x_tensor, conv_num_outputs, conv_ksize, conv_strides, pool_ksize, pool_strides)\n",
    "    \n",
    "    # 1 - Convolution and Max Pool layers\n",
    "    conv_num_outputs = 16\n",
    "    conv_ksize = (3,3)\n",
    "    conv_strides = (1,1)\n",
    "    pool_ksize = (2,2)\n",
    "    pool_strides = (2,2)\n",
    "    \n",
    "    conv_net1 = conv2d_maxpool(x, conv_num_outputs, conv_ksize, conv_strides, pool_ksize, pool_strides)\n",
    "    \n",
    "    # 2 - Convolution and Max Pool layers\n",
    "    conv_num_outputs = 32\n",
    "    conv_net2 = conv2d_maxpool(conv_net1, conv_num_outputs, conv_ksize, conv_strides, pool_ksize, pool_strides)\n",
    "    \n",
    "    # 3 - Convolution and Max Pool layers\n",
    "    conv_num_outputs = 64\n",
    "    conv_net3 = conv2d_maxpool(conv_net2, conv_num_outputs, conv_ksize, conv_strides, pool_ksize, pool_strides)\n",
    "    \n",
    "    # Apply a Flatten Layer\n",
    "    # Function Definition from Above:\n",
    "    #   flatten(x_tensor)\n",
    "    flat = flatten(conv_net3)\n",
    "\n",
    "    # Apply 1, 2, or 3 Fully Connected Layers\n",
    "    #    Play around with different number of outputs\n",
    "    # Function Definition from Above:\n",
    "    #   fully_conn(x_tensor, num_outputs)\n",
    "    conn1_layer = fully_conn(flat, 512)\n",
    "    conn1_layer = tf.nn.dropout(conn1_layer,keep_prob = keep_prob)\n",
    "    \n",
    "    conn2_layer = fully_conn(conn1_layer, 512)\n",
    "    conn2_layer = tf.nn.dropout(conn2_layer,keep_prob = keep_prob)\n",
    "\n",
    "    \n",
    "    # Apply an Output Layer\n",
    "    #    Set this to the number of classes\n",
    "    # Function Definition from Above:\n",
    "    #   output(x_tensor, num_outputs)\n",
    "    num_outputs = 10\n",
    "    output_layer = output(conn2_layer, num_outputs)\n",
    "    \n",
    "    # return output\n",
    "    return output_layer\n",
    "\n",
    "\n",
    "\n",
    "\"\"\"\n",
    "DON'T MODIFY ANYTHING IN THIS CELL THAT IS BELOW THIS LINE\n",
    "\"\"\"\n",
    "\n",
    "##############################\n",
    "## Build the Neural Network ##\n",
    "##############################\n",
    "\n",
    "# Remove previous weights, bias, inputs, etc..\n",
    "tf.reset_default_graph()\n",
    "\n",
    "# Inputs\n",
    "x = neural_net_image_input((32, 32, 3))\n",
    "y = neural_net_label_input(10)\n",
    "keep_prob = neural_net_keep_prob_input()\n",
    "\n",
    "# Model\n",
    "logits = conv_net(x, keep_prob)\n",
    "\n",
    "# Name logits Tensor, so that is can be loaded from disk after training\n",
    "logits = tf.identity(logits, name='logits')\n",
    "\n",
    "# Loss and Optimizer\n",
    "cost = tf.reduce_mean(tf.nn.softmax_cross_entropy_with_logits(logits=logits, labels=y))\n",
    "optimizer = tf.train.AdamOptimizer().minimize(cost)\n",
    "\n",
    "# Accuracy\n",
    "correct_pred = tf.equal(tf.argmax(logits, 1), tf.argmax(y, 1))\n",
    "accuracy = tf.reduce_mean(tf.cast(correct_pred, tf.float32), name='accuracy')\n",
    "\n",
    "tests.test_conv_net(conv_net)"
   ]
  },
  {
   "cell_type": "markdown",
   "metadata": {
    "deletable": true,
    "editable": true
   },
   "source": [
    "## Train the Neural Network\n",
    "### Single Optimization\n",
    "Implement the function `train_neural_network` to do a single optimization.  The optimization should use `optimizer` to optimize in `session` with a `feed_dict` of the following:\n",
    "* `x` for image input\n",
    "* `y` for labels\n",
    "* `keep_prob` for keep probability for dropout\n",
    "\n",
    "This function will be called for each batch, so `tf.global_variables_initializer()` has already been called.\n",
    "\n",
    "Note: Nothing needs to be returned. This function is only optimizing the neural network."
   ]
  },
  {
   "cell_type": "code",
   "execution_count": 14,
   "metadata": {
    "collapsed": false,
    "deletable": true,
    "editable": true
   },
   "outputs": [
    {
     "name": "stdout",
     "output_type": "stream",
     "text": [
      "Tests Passed\n"
     ]
    }
   ],
   "source": [
    "def train_neural_network(session, optimizer, keep_probability, feature_batch, label_batch):\n",
    "    \"\"\"\n",
    "    Optimize the session on a batch of images and labels\n",
    "    : session: Current TensorFlow session\n",
    "    : optimizer: TensorFlow optimizer function\n",
    "    : keep_probability: keep probability\n",
    "    : feature_batch: Batch of Numpy image data\n",
    "    : label_batch: Batch of Numpy label data\n",
    "    \"\"\"\n",
    "    session.run(optimizer,feed_dict = {x:feature_batch, y:label_batch, keep_prob:keep_probability})\n",
    "\n",
    "\n",
    "\"\"\"\n",
    "DON'T MODIFY ANYTHING IN THIS CELL THAT IS BELOW THIS LINE\n",
    "\"\"\"\n",
    "tests.test_train_nn(train_neural_network)"
   ]
  },
  {
   "cell_type": "markdown",
   "metadata": {
    "deletable": true,
    "editable": true
   },
   "source": [
    "### Show Stats\n",
    "Implement the function `print_stats` to print loss and validation accuracy.  Use the global variables `valid_features` and `valid_labels` to calculate validation accuracy.  Use a keep probability of `1.0` to calculate the loss and validation accuracy."
   ]
  },
  {
   "cell_type": "code",
   "execution_count": 22,
   "metadata": {
    "collapsed": false,
    "deletable": true,
    "editable": true
   },
   "outputs": [],
   "source": [
    "def print_stats(session, feature_batch, label_batch, cost, accuracy):\n",
    "    \"\"\"\n",
    "    Print information about loss and validation accuracy\n",
    "    : session: Current TensorFlow session\n",
    "    : feature_batch: Batch of Numpy image data\n",
    "    : label_batch: Batch of Numpy label data\n",
    "    : cost: TensorFlow cost function\n",
    "    : accuracy: TensorFlow accuracy function\n",
    "    \"\"\"\n",
    "    loss = session.run(cost, feed_dict = {x:feature_batch, y:label_batch, keep_prob:1.0})\n",
    "    training_accuracy = session.run(accuracy, feed_dict={x: feature_batch, y: label_batch, keep_prob: 1.0})\n",
    "    validation_accuracy = session.run(accuracy, feed_dict = {x:valid_features, y:valid_labels, keep_prob:1.0})\n",
    "    \n",
    "    print('Loss:: {}'.format(loss),'Training Accuracy:: {}'.format(training_accuracy),'Validation Accuracy:: {}'.format(validation_accuracy))\n",
    "    pass"
   ]
  },
  {
   "cell_type": "markdown",
   "metadata": {
    "deletable": true,
    "editable": true
   },
   "source": [
    "### Hyperparameters\n",
    "Tune the following parameters:\n",
    "* Set `epochs` to the number of iterations until the network stops learning or start overfitting\n",
    "* Set `batch_size` to the highest number that your machine has memory for.  Most people set them to common sizes of memory:\n",
    " * 64\n",
    " * 128\n",
    " * 256\n",
    " * ...\n",
    "* Set `keep_probability` to the probability of keeping a node using dropout"
   ]
  },
  {
   "cell_type": "code",
   "execution_count": 17,
   "metadata": {
    "collapsed": true,
    "deletable": true,
    "editable": true
   },
   "outputs": [],
   "source": [
    "# TODO: Tune Parameters\n",
    "epochs = 50\n",
    "batch_size = 512\n",
    "keep_probability = 0.7"
   ]
  },
  {
   "cell_type": "markdown",
   "metadata": {
    "deletable": true,
    "editable": true
   },
   "source": [
    "### Train on a Single CIFAR-10 Batch\n",
    "Instead of training the neural network on all the CIFAR-10 batches of data, let's use a single batch. This should save time while you iterate on the model to get a better accuracy.  Once the final validation accuracy is 50% or greater, run the model on all the data in the next section."
   ]
  },
  {
   "cell_type": "code",
   "execution_count": 23,
   "metadata": {
    "collapsed": false,
    "deletable": true,
    "editable": true
   },
   "outputs": [
    {
     "name": "stdout",
     "output_type": "stream",
     "text": [
      "Checking the Training on a Single Batch...\n",
      "Epoch  1, CIFAR-10 Batch 1:  Loss:: 2.090961217880249 Training Accuracy:: 0.25337839126586914 Validation Accuracy:: 0.23579996824264526\n",
      "Epoch  2, CIFAR-10 Batch 1:  Loss:: 1.8671326637268066 Training Accuracy:: 0.3547297418117523 Validation Accuracy:: 0.3673999607563019\n",
      "Epoch  3, CIFAR-10 Batch 1:  Loss:: 1.7295751571655273 Training Accuracy:: 0.4054054021835327 Validation Accuracy:: 0.40379998087882996\n",
      "Epoch  4, CIFAR-10 Batch 1:  Loss:: 1.626479148864746 Training Accuracy:: 0.45270273089408875 Validation Accuracy:: 0.4267999827861786\n",
      "Epoch  5, CIFAR-10 Batch 1:  Loss:: 1.5186257362365723 Training Accuracy:: 0.45270270109176636 Validation Accuracy:: 0.4545999765396118\n",
      "Epoch  6, CIFAR-10 Batch 1:  Loss:: 1.4410477876663208 Training Accuracy:: 0.4797297418117523 Validation Accuracy:: 0.4603999853134155\n",
      "Epoch  7, CIFAR-10 Batch 1:  Loss:: 1.3520567417144775 Training Accuracy:: 0.5101351737976074 Validation Accuracy:: 0.4795999526977539\n",
      "Epoch  8, CIFAR-10 Batch 1:  Loss:: 1.2643561363220215 Training Accuracy:: 0.5540540814399719 Validation Accuracy:: 0.5071999430656433\n",
      "Epoch  9, CIFAR-10 Batch 1:  Loss:: 1.1562484502792358 Training Accuracy:: 0.625 Validation Accuracy:: 0.5260000228881836\n",
      "Epoch 10, CIFAR-10 Batch 1:  Loss:: 1.1065449714660645 Training Accuracy:: 0.6520270705223083 Validation Accuracy:: 0.5229999423027039\n",
      "Epoch 11, CIFAR-10 Batch 1:  Loss:: 1.0098646879196167 Training Accuracy:: 0.6925675868988037 Validation Accuracy:: 0.5433999300003052\n",
      "Epoch 12, CIFAR-10 Batch 1:  Loss:: 0.9207181334495544 Training Accuracy:: 0.7162162065505981 Validation Accuracy:: 0.5565999150276184\n",
      "Epoch 13, CIFAR-10 Batch 1:  Loss:: 0.8606213331222534 Training Accuracy:: 0.7263513803482056 Validation Accuracy:: 0.5531999468803406\n",
      "Epoch 14, CIFAR-10 Batch 1:  Loss:: 0.7852588891983032 Training Accuracy:: 0.7702703475952148 Validation Accuracy:: 0.5583999752998352\n",
      "Epoch 15, CIFAR-10 Batch 1:  Loss:: 0.7208218574523926 Training Accuracy:: 0.8074324727058411 Validation Accuracy:: 0.5659999251365662\n",
      "Epoch 16, CIFAR-10 Batch 1:  Loss:: 0.6455812454223633 Training Accuracy:: 0.8108108043670654 Validation Accuracy:: 0.5699999332427979\n",
      "Epoch 17, CIFAR-10 Batch 1:  Loss:: 0.589705765247345 Training Accuracy:: 0.8209459185600281 Validation Accuracy:: 0.5745999813079834\n",
      "Epoch 18, CIFAR-10 Batch 1:  Loss:: 0.522619903087616 Training Accuracy:: 0.8513513803482056 Validation Accuracy:: 0.5709999203681946\n",
      "Epoch 19, CIFAR-10 Batch 1:  Loss:: 0.4782148599624634 Training Accuracy:: 0.8682433366775513 Validation Accuracy:: 0.5771999359130859\n",
      "Epoch 20, CIFAR-10 Batch 1:  Loss:: 0.4233803153038025 Training Accuracy:: 0.8817567825317383 Validation Accuracy:: 0.56659996509552\n",
      "Epoch 21, CIFAR-10 Batch 1:  Loss:: 0.3714028596878052 Training Accuracy:: 0.8918918371200562 Validation Accuracy:: 0.5753999352455139\n",
      "Epoch 22, CIFAR-10 Batch 1:  Loss:: 0.3454156517982483 Training Accuracy:: 0.9087837934494019 Validation Accuracy:: 0.5759998559951782\n",
      "Epoch 23, CIFAR-10 Batch 1:  Loss:: 0.28892040252685547 Training Accuracy:: 0.9222972989082336 Validation Accuracy:: 0.58079993724823\n",
      "Epoch 24, CIFAR-10 Batch 1:  Loss:: 0.28026264905929565 Training Accuracy:: 0.9560810327529907 Validation Accuracy:: 0.5715999007225037\n",
      "Epoch 25, CIFAR-10 Batch 1:  Loss:: 0.26586657762527466 Training Accuracy:: 0.9222972989082336 Validation Accuracy:: 0.5685999393463135\n",
      "Epoch 26, CIFAR-10 Batch 1:  Loss:: 0.21575140953063965 Training Accuracy:: 0.9391891956329346 Validation Accuracy:: 0.5773999691009521\n",
      "Epoch 27, CIFAR-10 Batch 1:  Loss:: 0.17406998574733734 Training Accuracy:: 0.9729729890823364 Validation Accuracy:: 0.58079993724823\n",
      "Epoch 28, CIFAR-10 Batch 1:  Loss:: 0.16651678085327148 Training Accuracy:: 0.962837815284729 Validation Accuracy:: 0.5745999217033386\n",
      "Epoch 29, CIFAR-10 Batch 1:  Loss:: 0.17887382209300995 Training Accuracy:: 0.9695945978164673 Validation Accuracy:: 0.5583999752998352\n",
      "Epoch 30, CIFAR-10 Batch 1:  Loss:: 0.14919009804725647 Training Accuracy:: 0.9729729890823364 Validation Accuracy:: 0.5639999508857727\n",
      "Epoch 31, CIFAR-10 Batch 1:  Loss:: 0.1658884584903717 Training Accuracy:: 0.962837815284729 Validation Accuracy:: 0.5681999921798706\n",
      "Epoch 32, CIFAR-10 Batch 1:  Loss:: 0.12880580127239227 Training Accuracy:: 0.9763513803482056 Validation Accuracy:: 0.5761998891830444\n",
      "Epoch 33, CIFAR-10 Batch 1:  Loss:: 0.08076651394367218 Training Accuracy:: 0.986486554145813 Validation Accuracy:: 0.5817998647689819\n",
      "Epoch 34, CIFAR-10 Batch 1:  Loss:: 0.08571840077638626 Training Accuracy:: 0.9898649454116821 Validation Accuracy:: 0.574199914932251\n",
      "Epoch 35, CIFAR-10 Batch 1:  Loss:: 0.05936957523226738 Training Accuracy:: 0.9932433366775513 Validation Accuracy:: 0.5839999914169312\n",
      "Epoch 36, CIFAR-10 Batch 1:  Loss:: 0.07924243062734604 Training Accuracy:: 0.9966216683387756 Validation Accuracy:: 0.5619999170303345\n",
      "Epoch 37, CIFAR-10 Batch 1:  Loss:: 0.06098056584596634 Training Accuracy:: 0.9932432174682617 Validation Accuracy:: 0.571199893951416\n",
      "Epoch 38, CIFAR-10 Batch 1:  Loss:: 0.09477639198303223 Training Accuracy:: 0.9797297716140747 Validation Accuracy:: 0.5657999515533447\n",
      "Epoch 39, CIFAR-10 Batch 1:  Loss:: 0.059444114565849304 Training Accuracy:: 1.0 Validation Accuracy:: 0.5801999568939209\n",
      "Epoch 40, CIFAR-10 Batch 1:  Loss:: 0.043803323060274124 Training Accuracy:: 0.9966216087341309 Validation Accuracy:: 0.5903999209403992\n",
      "Epoch 41, CIFAR-10 Batch 1:  Loss:: 0.053886838257312775 Training Accuracy:: 1.0 Validation Accuracy:: 0.579599916934967\n",
      "Epoch 42, CIFAR-10 Batch 1:  Loss:: 0.04709898307919502 Training Accuracy:: 0.9966216087341309 Validation Accuracy:: 0.5757999420166016\n",
      "Epoch 43, CIFAR-10 Batch 1:  Loss:: 0.057366933673620224 Training Accuracy:: 0.9864864349365234 Validation Accuracy:: 0.5669999122619629\n",
      "Epoch 44, CIFAR-10 Batch 1:  Loss:: 0.04853126034140587 Training Accuracy:: 0.9932432174682617 Validation Accuracy:: 0.5823999047279358\n",
      "Epoch 45, CIFAR-10 Batch 1:  Loss:: 0.03230538219213486 Training Accuracy:: 1.0 Validation Accuracy:: 0.5903998613357544\n",
      "Epoch 46, CIFAR-10 Batch 1:  Loss:: 0.05333791673183441 Training Accuracy:: 0.9932433366775513 Validation Accuracy:: 0.5871999263763428\n",
      "Epoch 47, CIFAR-10 Batch 1:  Loss:: 0.021819567307829857 Training Accuracy:: 1.0 Validation Accuracy:: 0.5819999575614929\n",
      "Epoch 48, CIFAR-10 Batch 1:  Loss:: 0.035028405487537384 Training Accuracy:: 0.9932433366775513 Validation Accuracy:: 0.5755999088287354\n",
      "Epoch 49, CIFAR-10 Batch 1:  Loss:: 0.031368792057037354 Training Accuracy:: 0.9966216087341309 Validation Accuracy:: 0.5787999629974365\n",
      "Epoch 50, CIFAR-10 Batch 1:  Loss:: 0.031443171203136444 Training Accuracy:: 0.9966216087341309 Validation Accuracy:: 0.5643998980522156\n"
     ]
    }
   ],
   "source": [
    "\"\"\"\n",
    "DON'T MODIFY ANYTHING IN THIS CELL\n",
    "\"\"\"\n",
    "print('Checking the Training on a Single Batch...')\n",
    "with tf.Session() as sess:\n",
    "    # Initializing the variables\n",
    "    sess.run(tf.global_variables_initializer())\n",
    "    \n",
    "    # Training cycle\n",
    "    for epoch in range(epochs):\n",
    "        batch_i = 1\n",
    "        for batch_features, batch_labels in helper.load_preprocess_training_batch(batch_i, batch_size):\n",
    "            train_neural_network(sess, optimizer, keep_probability, batch_features, batch_labels)\n",
    "        print('Epoch {:>2}, CIFAR-10 Batch {}:  '.format(epoch + 1, batch_i), end='')\n",
    "        print_stats(sess, batch_features, batch_labels, cost, accuracy)"
   ]
  },
  {
   "cell_type": "markdown",
   "metadata": {
    "deletable": true,
    "editable": true
   },
   "source": [
    "### Fully Train the Model\n",
    "Now that you got a good accuracy with a single CIFAR-10 batch, try it with all five batches."
   ]
  },
  {
   "cell_type": "code",
   "execution_count": 24,
   "metadata": {
    "collapsed": false,
    "deletable": true,
    "editable": true
   },
   "outputs": [
    {
     "name": "stdout",
     "output_type": "stream",
     "text": [
      "Training...\n",
      "Epoch  1, CIFAR-10 Batch 1:  Loss:: 2.111250638961792 Training Accuracy:: 0.27027028799057007 Validation Accuracy:: 0.26019996404647827\n",
      "Epoch  1, CIFAR-10 Batch 2:  Loss:: 1.735640287399292 Training Accuracy:: 0.37837839126586914 Validation Accuracy:: 0.36959996819496155\n",
      "Epoch  1, CIFAR-10 Batch 3:  Loss:: 1.4857760667800903 Training Accuracy:: 0.5000000596046448 Validation Accuracy:: 0.4129999577999115\n",
      "Epoch  1, CIFAR-10 Batch 4:  Loss:: 1.4979764223098755 Training Accuracy:: 0.45945948362350464 Validation Accuracy:: 0.4453999400138855\n",
      "Epoch  1, CIFAR-10 Batch 5:  Loss:: 1.4529430866241455 Training Accuracy:: 0.4729729890823364 Validation Accuracy:: 0.4615999460220337\n",
      "Epoch  2, CIFAR-10 Batch 1:  Loss:: 1.5287977457046509 Training Accuracy:: 0.4628378450870514 Validation Accuracy:: 0.47940000891685486\n",
      "Epoch  2, CIFAR-10 Batch 2:  Loss:: 1.2977250814437866 Training Accuracy:: 0.5405405163764954 Validation Accuracy:: 0.5037999749183655\n",
      "Epoch  2, CIFAR-10 Batch 3:  Loss:: 1.2215205430984497 Training Accuracy:: 0.5709459781646729 Validation Accuracy:: 0.4965999722480774\n",
      "Epoch  2, CIFAR-10 Batch 4:  Loss:: 1.2129950523376465 Training Accuracy:: 0.5439189672470093 Validation Accuracy:: 0.525399923324585\n",
      "Epoch  2, CIFAR-10 Batch 5:  Loss:: 1.1966397762298584 Training Accuracy:: 0.5777027606964111 Validation Accuracy:: 0.5353999733924866\n",
      "Epoch  3, CIFAR-10 Batch 1:  Loss:: 1.3262696266174316 Training Accuracy:: 0.5506756901741028 Validation Accuracy:: 0.539199948310852\n",
      "Epoch  3, CIFAR-10 Batch 2:  Loss:: 1.1199957132339478 Training Accuracy:: 0.6351351737976074 Validation Accuracy:: 0.5583999156951904\n",
      "Epoch  3, CIFAR-10 Batch 3:  Loss:: 1.0696380138397217 Training Accuracy:: 0.6216216087341309 Validation Accuracy:: 0.5475999116897583\n",
      "Epoch  3, CIFAR-10 Batch 4:  Loss:: 1.0296183824539185 Training Accuracy:: 0.6418918967247009 Validation Accuracy:: 0.5829999446868896\n",
      "Epoch  3, CIFAR-10 Batch 5:  Loss:: 1.0115585327148438 Training Accuracy:: 0.6587837934494019 Validation Accuracy:: 0.5883998870849609\n",
      "Epoch  4, CIFAR-10 Batch 1:  Loss:: 1.1672930717468262 Training Accuracy:: 0.6182432770729065 Validation Accuracy:: 0.5941998958587646\n",
      "Epoch  4, CIFAR-10 Batch 2:  Loss:: 0.9731457233428955 Training Accuracy:: 0.6891891956329346 Validation Accuracy:: 0.5991998910903931\n",
      "Epoch  4, CIFAR-10 Batch 3:  Loss:: 0.9004329442977905 Training Accuracy:: 0.6790541410446167 Validation Accuracy:: 0.5905999541282654\n",
      "Epoch  4, CIFAR-10 Batch 4:  Loss:: 0.885913074016571 Training Accuracy:: 0.712837815284729 Validation Accuracy:: 0.6129999160766602\n",
      "Epoch  4, CIFAR-10 Batch 5:  Loss:: 0.8953771591186523 Training Accuracy:: 0.6722973585128784 Validation Accuracy:: 0.6143999099731445\n",
      "Epoch  5, CIFAR-10 Batch 1:  Loss:: 1.009894609451294 Training Accuracy:: 0.6858108639717102 Validation Accuracy:: 0.6317999362945557\n",
      "Epoch  5, CIFAR-10 Batch 2:  Loss:: 0.8825315237045288 Training Accuracy:: 0.7060810923576355 Validation Accuracy:: 0.6213998794555664\n",
      "Epoch  5, CIFAR-10 Batch 3:  Loss:: 0.8336611986160278 Training Accuracy:: 0.7128378748893738 Validation Accuracy:: 0.6141998767852783\n",
      "Epoch  5, CIFAR-10 Batch 4:  Loss:: 0.8250485062599182 Training Accuracy:: 0.699324369430542 Validation Accuracy:: 0.6305999159812927\n",
      "Epoch  5, CIFAR-10 Batch 5:  Loss:: 0.7869561910629272 Training Accuracy:: 0.7263513803482056 Validation Accuracy:: 0.6481999158859253\n",
      "Epoch  6, CIFAR-10 Batch 1:  Loss:: 0.8980777859687805 Training Accuracy:: 0.6959459781646729 Validation Accuracy:: 0.6393998861312866\n",
      "Epoch  6, CIFAR-10 Batch 2:  Loss:: 0.769681990146637 Training Accuracy:: 0.7533783912658691 Validation Accuracy:: 0.6401998996734619\n",
      "Epoch  6, CIFAR-10 Batch 3:  Loss:: 0.7379063367843628 Training Accuracy:: 0.7398648858070374 Validation Accuracy:: 0.6365998983383179\n",
      "Epoch  6, CIFAR-10 Batch 4:  Loss:: 0.6891987919807434 Training Accuracy:: 0.7466216683387756 Validation Accuracy:: 0.6531999111175537\n",
      "Epoch  6, CIFAR-10 Batch 5:  Loss:: 0.7095931172370911 Training Accuracy:: 0.7466216683387756 Validation Accuracy:: 0.6637998819351196\n",
      "Epoch  7, CIFAR-10 Batch 1:  Loss:: 0.8297557830810547 Training Accuracy:: 0.736486554145813 Validation Accuracy:: 0.6609998345375061\n",
      "Epoch  7, CIFAR-10 Batch 2:  Loss:: 0.7198456525802612 Training Accuracy:: 0.7770270705223083 Validation Accuracy:: 0.6397998929023743\n",
      "Epoch  7, CIFAR-10 Batch 3:  Loss:: 0.6664958596229553 Training Accuracy:: 0.7770270705223083 Validation Accuracy:: 0.6521998643875122\n",
      "Epoch  7, CIFAR-10 Batch 4:  Loss:: 0.6639369130134583 Training Accuracy:: 0.7804054021835327 Validation Accuracy:: 0.6533998250961304\n",
      "Epoch  7, CIFAR-10 Batch 5:  Loss:: 0.6421553492546082 Training Accuracy:: 0.7702703475952148 Validation Accuracy:: 0.6663998365402222\n",
      "Epoch  8, CIFAR-10 Batch 1:  Loss:: 0.7447845935821533 Training Accuracy:: 0.75 Validation Accuracy:: 0.6741998791694641\n",
      "Epoch  8, CIFAR-10 Batch 2:  Loss:: 0.6355038285255432 Training Accuracy:: 0.8141891956329346 Validation Accuracy:: 0.6617999076843262\n",
      "Epoch  8, CIFAR-10 Batch 3:  Loss:: 0.599673867225647 Training Accuracy:: 0.8074324727058411 Validation Accuracy:: 0.6721998453140259\n",
      "Epoch  8, CIFAR-10 Batch 4:  Loss:: 0.5873731374740601 Training Accuracy:: 0.7972972989082336 Validation Accuracy:: 0.6735999584197998\n",
      "Epoch  8, CIFAR-10 Batch 5:  Loss:: 0.6075141429901123 Training Accuracy:: 0.7804054617881775 Validation Accuracy:: 0.673399806022644\n",
      "Epoch  9, CIFAR-10 Batch 1:  Loss:: 0.6521720886230469 Training Accuracy:: 0.7736486792564392 Validation Accuracy:: 0.6819998621940613\n",
      "Epoch  9, CIFAR-10 Batch 2:  Loss:: 0.5455702543258667 Training Accuracy:: 0.8412163257598877 Validation Accuracy:: 0.6757998466491699\n",
      "Epoch  9, CIFAR-10 Batch 3:  Loss:: 0.5351266860961914 Training Accuracy:: 0.8175675868988037 Validation Accuracy:: 0.6851998567581177\n",
      "Epoch  9, CIFAR-10 Batch 4:  Loss:: 0.5178120136260986 Training Accuracy:: 0.8277027606964111 Validation Accuracy:: 0.6803998351097107\n",
      "Epoch  9, CIFAR-10 Batch 5:  Loss:: 0.5285468101501465 Training Accuracy:: 0.8209459185600281 Validation Accuracy:: 0.6817998290061951\n",
      "Epoch 10, CIFAR-10 Batch 1:  Loss:: 0.6097279787063599 Training Accuracy:: 0.800675630569458 Validation Accuracy:: 0.6857998967170715\n",
      "Epoch 10, CIFAR-10 Batch 2:  Loss:: 0.4914287328720093 Training Accuracy:: 0.8513513803482056 Validation Accuracy:: 0.6899999380111694\n",
      "Epoch 10, CIFAR-10 Batch 3:  Loss:: 0.5044963359832764 Training Accuracy:: 0.8412162661552429 Validation Accuracy:: 0.6805999279022217\n",
      "Epoch 10, CIFAR-10 Batch 4:  Loss:: 0.46656930446624756 Training Accuracy:: 0.8547298312187195 Validation Accuracy:: 0.6925998330116272\n",
      "Epoch 10, CIFAR-10 Batch 5:  Loss:: 0.44755467772483826 Training Accuracy:: 0.8479730486869812 Validation Accuracy:: 0.6885998249053955\n",
      "Epoch 11, CIFAR-10 Batch 1:  Loss:: 0.5765390396118164 Training Accuracy:: 0.8040540814399719 Validation Accuracy:: 0.6775999069213867\n",
      "Epoch 11, CIFAR-10 Batch 2:  Loss:: 0.48038336634635925 Training Accuracy:: 0.8445946574211121 Validation Accuracy:: 0.6815999150276184\n",
      "Epoch 11, CIFAR-10 Batch 3:  Loss:: 0.44132232666015625 Training Accuracy:: 0.8547297120094299 Validation Accuracy:: 0.687799870967865\n",
      "Epoch 11, CIFAR-10 Batch 4:  Loss:: 0.41105201840400696 Training Accuracy:: 0.8648648858070374 Validation Accuracy:: 0.6953999400138855\n",
      "Epoch 11, CIFAR-10 Batch 5:  Loss:: 0.41888427734375 Training Accuracy:: 0.8885135054588318 Validation Accuracy:: 0.6877998113632202\n",
      "Epoch 12, CIFAR-10 Batch 1:  Loss:: 0.5599576234817505 Training Accuracy:: 0.8175675868988037 Validation Accuracy:: 0.6673998832702637\n",
      "Epoch 12, CIFAR-10 Batch 2:  Loss:: 0.42928823828697205 Training Accuracy:: 0.8682432770729065 Validation Accuracy:: 0.6959998607635498\n",
      "Epoch 12, CIFAR-10 Batch 3:  Loss:: 0.4065244793891907 Training Accuracy:: 0.8547297716140747 Validation Accuracy:: 0.6901998519897461\n",
      "Epoch 12, CIFAR-10 Batch 4:  Loss:: 0.36714261770248413 Training Accuracy:: 0.8682432770729065 Validation Accuracy:: 0.7023998498916626\n",
      "Epoch 12, CIFAR-10 Batch 5:  Loss:: 0.36573877930641174 Training Accuracy:: 0.8986485600471497 Validation Accuracy:: 0.6907998919487\n",
      "Epoch 13, CIFAR-10 Batch 1:  Loss:: 0.4566258490085602 Training Accuracy:: 0.8513513207435608 Validation Accuracy:: 0.6945998668670654\n",
      "Epoch 13, CIFAR-10 Batch 2:  Loss:: 0.39460062980651855 Training Accuracy:: 0.875 Validation Accuracy:: 0.7007998824119568\n",
      "Epoch 13, CIFAR-10 Batch 3:  Loss:: 0.34490469098091125 Training Accuracy:: 0.8918919563293457 Validation Accuracy:: 0.7019999027252197\n",
      "Epoch 13, CIFAR-10 Batch 4:  Loss:: 0.34143975377082825 Training Accuracy:: 0.9020270109176636 Validation Accuracy:: 0.6983999013900757\n",
      "Epoch 13, CIFAR-10 Batch 5:  Loss:: 0.28088927268981934 Training Accuracy:: 0.9391891360282898 Validation Accuracy:: 0.6983997821807861\n",
      "Epoch 14, CIFAR-10 Batch 1:  Loss:: 0.4016154110431671 Training Accuracy:: 0.8817567825317383 Validation Accuracy:: 0.7069998383522034\n",
      "Epoch 14, CIFAR-10 Batch 2:  Loss:: 0.34775984287261963 Training Accuracy:: 0.8918918967247009 Validation Accuracy:: 0.7017998695373535\n",
      "Epoch 14, CIFAR-10 Batch 3:  Loss:: 0.32210642099380493 Training Accuracy:: 0.9054054617881775 Validation Accuracy:: 0.7041998505592346\n",
      "Epoch 14, CIFAR-10 Batch 4:  Loss:: 0.31262195110321045 Training Accuracy:: 0.898648738861084 Validation Accuracy:: 0.6957998275756836\n",
      "Epoch 14, CIFAR-10 Batch 5:  Loss:: 0.2937416434288025 Training Accuracy:: 0.9222972989082336 Validation Accuracy:: 0.6887998580932617\n",
      "Epoch 15, CIFAR-10 Batch 1:  Loss:: 0.3715413212776184 Training Accuracy:: 0.8918919563293457 Validation Accuracy:: 0.7011998295783997\n",
      "Epoch 15, CIFAR-10 Batch 2:  Loss:: 0.33664125204086304 Training Accuracy:: 0.8817566633224487 Validation Accuracy:: 0.6853998899459839\n",
      "Epoch 15, CIFAR-10 Batch 3:  Loss:: 0.30704668164253235 Training Accuracy:: 0.9189189076423645 Validation Accuracy:: 0.7107998728752136\n",
      "Epoch 15, CIFAR-10 Batch 4:  Loss:: 0.27028003334999084 Training Accuracy:: 0.9155405759811401 Validation Accuracy:: 0.7059998512268066\n",
      "Epoch 15, CIFAR-10 Batch 5:  Loss:: 0.2657122313976288 Training Accuracy:: 0.9155404567718506 Validation Accuracy:: 0.6921998858451843\n",
      "Epoch 16, CIFAR-10 Batch 1:  Loss:: 0.33643242716789246 Training Accuracy:: 0.912162184715271 Validation Accuracy:: 0.709199845790863\n",
      "Epoch 16, CIFAR-10 Batch 2:  Loss:: 0.2803349792957306 Training Accuracy:: 0.9256757497787476 Validation Accuracy:: 0.6957998275756836\n",
      "Epoch 16, CIFAR-10 Batch 3:  Loss:: 0.2500942349433899 Training Accuracy:: 0.9155405759811401 Validation Accuracy:: 0.7087998390197754\n",
      "Epoch 16, CIFAR-10 Batch 4:  Loss:: 0.26621362566947937 Training Accuracy:: 0.9087837934494019 Validation Accuracy:: 0.7001998424530029\n",
      "Epoch 16, CIFAR-10 Batch 5:  Loss:: 0.2171889692544937 Training Accuracy:: 0.9290540814399719 Validation Accuracy:: 0.689599871635437\n",
      "Epoch 17, CIFAR-10 Batch 1:  Loss:: 0.3010513186454773 Training Accuracy:: 0.912162184715271 Validation Accuracy:: 0.6983998417854309\n",
      "Epoch 17, CIFAR-10 Batch 2:  Loss:: 0.2199430763721466 Training Accuracy:: 0.9358107447624207 Validation Accuracy:: 0.7131998538970947\n",
      "Epoch 17, CIFAR-10 Batch 3:  Loss:: 0.2248956561088562 Training Accuracy:: 0.9391891956329346 Validation Accuracy:: 0.7063999176025391\n",
      "Epoch 17, CIFAR-10 Batch 4:  Loss:: 0.20818093419075012 Training Accuracy:: 0.9358108639717102 Validation Accuracy:: 0.6967998147010803\n",
      "Epoch 17, CIFAR-10 Batch 5:  Loss:: 0.20079781115055084 Training Accuracy:: 0.9324323534965515 Validation Accuracy:: 0.7029998898506165\n",
      "Epoch 18, CIFAR-10 Batch 1:  Loss:: 0.29434892535209656 Training Accuracy:: 0.9155405759811401 Validation Accuracy:: 0.6899998784065247\n",
      "Epoch 18, CIFAR-10 Batch 2:  Loss:: 0.20022554695606232 Training Accuracy:: 0.9493242502212524 Validation Accuracy:: 0.7123998403549194\n",
      "Epoch 18, CIFAR-10 Batch 3:  Loss:: 0.2037559449672699 Training Accuracy:: 0.9324324727058411 Validation Accuracy:: 0.7157998085021973\n",
      "Epoch 18, CIFAR-10 Batch 4:  Loss:: 0.19665226340293884 Training Accuracy:: 0.9493242502212524 Validation Accuracy:: 0.7049999237060547\n",
      "Epoch 18, CIFAR-10 Batch 5:  Loss:: 0.181966170668602 Training Accuracy:: 0.9594594836235046 Validation Accuracy:: 0.6875999569892883\n",
      "Epoch 19, CIFAR-10 Batch 1:  Loss:: 0.3006414473056793 Training Accuracy:: 0.9054054021835327 Validation Accuracy:: 0.6797999143600464\n",
      "Epoch 19, CIFAR-10 Batch 2:  Loss:: 0.19222921133041382 Training Accuracy:: 0.9695945978164673 Validation Accuracy:: 0.7027998566627502\n",
      "Epoch 19, CIFAR-10 Batch 3:  Loss:: 0.17566226422786713 Training Accuracy:: 0.9560811519622803 Validation Accuracy:: 0.7067998647689819\n",
      "Epoch 19, CIFAR-10 Batch 4:  Loss:: 0.19717693328857422 Training Accuracy:: 0.9358108043670654 Validation Accuracy:: 0.6977998614311218\n",
      "Epoch 19, CIFAR-10 Batch 5:  Loss:: 0.18457892537117004 Training Accuracy:: 0.9425675868988037 Validation Accuracy:: 0.6849998831748962\n",
      "Epoch 20, CIFAR-10 Batch 1:  Loss:: 0.2532322406768799 Training Accuracy:: 0.9020270705223083 Validation Accuracy:: 0.7005999088287354\n",
      "Epoch 20, CIFAR-10 Batch 2:  Loss:: 0.2168256640434265 Training Accuracy:: 0.9560810923576355 Validation Accuracy:: 0.6941999197006226\n",
      "Epoch 20, CIFAR-10 Batch 3:  Loss:: 0.15369758009910583 Training Accuracy:: 0.9560811519622803 Validation Accuracy:: 0.716999888420105\n",
      "Epoch 20, CIFAR-10 Batch 4:  Loss:: 0.14179947972297668 Training Accuracy:: 0.962837815284729 Validation Accuracy:: 0.7097998857498169\n",
      "Epoch 20, CIFAR-10 Batch 5:  Loss:: 0.13564422726631165 Training Accuracy:: 0.9695945978164673 Validation Accuracy:: 0.6959998607635498\n",
      "Epoch 21, CIFAR-10 Batch 1:  Loss:: 0.20769508183002472 Training Accuracy:: 0.9290540218353271 Validation Accuracy:: 0.7069998979568481\n",
      "Epoch 21, CIFAR-10 Batch 2:  Loss:: 0.2202850580215454 Training Accuracy:: 0.9527026414871216 Validation Accuracy:: 0.6761999130249023\n",
      "Epoch 21, CIFAR-10 Batch 3:  Loss:: 0.15631967782974243 Training Accuracy:: 0.9662162065505981 Validation Accuracy:: 0.7135998606681824\n",
      "Epoch 21, CIFAR-10 Batch 4:  Loss:: 0.1391429901123047 Training Accuracy:: 0.9763513803482056 Validation Accuracy:: 0.7059998512268066\n",
      "Epoch 21, CIFAR-10 Batch 5:  Loss:: 0.14770352840423584 Training Accuracy:: 0.9662162065505981 Validation Accuracy:: 0.6889998912811279\n",
      "Epoch 22, CIFAR-10 Batch 1:  Loss:: 0.20268979668617249 Training Accuracy:: 0.9459459781646729 Validation Accuracy:: 0.7033998370170593\n",
      "Epoch 22, CIFAR-10 Batch 2:  Loss:: 0.13958390057086945 Training Accuracy:: 0.9729729890823364 Validation Accuracy:: 0.6977998614311218\n",
      "Epoch 22, CIFAR-10 Batch 3:  Loss:: 0.14636485278606415 Training Accuracy:: 0.962837815284729 Validation Accuracy:: 0.7165998220443726\n",
      "Epoch 22, CIFAR-10 Batch 4:  Loss:: 0.13449600338935852 Training Accuracy:: 0.9594594240188599 Validation Accuracy:: 0.7021998167037964\n",
      "Epoch 22, CIFAR-10 Batch 5:  Loss:: 0.14069423079490662 Training Accuracy:: 0.9729729890823364 Validation Accuracy:: 0.6851999163627625\n",
      "Epoch 23, CIFAR-10 Batch 1:  Loss:: 0.1901559829711914 Training Accuracy:: 0.9425674676895142 Validation Accuracy:: 0.7107999324798584\n",
      "Epoch 23, CIFAR-10 Batch 2:  Loss:: 0.11861348152160645 Training Accuracy:: 0.9898648858070374 Validation Accuracy:: 0.7075998783111572\n",
      "Epoch 23, CIFAR-10 Batch 3:  Loss:: 0.12113840878009796 Training Accuracy:: 0.9729729890823364 Validation Accuracy:: 0.7093998193740845\n",
      "Epoch 23, CIFAR-10 Batch 4:  Loss:: 0.08851730078458786 Training Accuracy:: 0.9898648858070374 Validation Accuracy:: 0.7237998843193054\n",
      "Epoch 23, CIFAR-10 Batch 5:  Loss:: 0.11165256053209305 Training Accuracy:: 0.9831081628799438 Validation Accuracy:: 0.697799801826477\n",
      "Epoch 24, CIFAR-10 Batch 1:  Loss:: 0.1620984673500061 Training Accuracy:: 0.9560810327529907 Validation Accuracy:: 0.7059998512268066\n",
      "Epoch 24, CIFAR-10 Batch 2:  Loss:: 0.1141124740242958 Training Accuracy:: 0.986486554145813 Validation Accuracy:: 0.7093998789787292\n",
      "Epoch 24, CIFAR-10 Batch 3:  Loss:: 0.10358868539333344 Training Accuracy:: 0.9729729890823364 Validation Accuracy:: 0.7075998783111572\n",
      "Epoch 24, CIFAR-10 Batch 4:  Loss:: 0.08635222911834717 Training Accuracy:: 0.9864864945411682 Validation Accuracy:: 0.7129998207092285\n",
      "Epoch 24, CIFAR-10 Batch 5:  Loss:: 0.0965258851647377 Training Accuracy:: 0.9831081628799438 Validation Accuracy:: 0.6929998397827148\n",
      "Epoch 25, CIFAR-10 Batch 1:  Loss:: 0.12192441523075104 Training Accuracy:: 0.9763513803482056 Validation Accuracy:: 0.701999843120575\n",
      "Epoch 25, CIFAR-10 Batch 2:  Loss:: 0.07333245128393173 Training Accuracy:: 0.9932433366775513 Validation Accuracy:: 0.7133998274803162\n",
      "Epoch 25, CIFAR-10 Batch 3:  Loss:: 0.08641965687274933 Training Accuracy:: 0.9797297716140747 Validation Accuracy:: 0.7097998857498169\n",
      "Epoch 25, CIFAR-10 Batch 4:  Loss:: 0.07755754888057709 Training Accuracy:: 0.9898648858070374 Validation Accuracy:: 0.7137999534606934\n",
      "Epoch 25, CIFAR-10 Batch 5:  Loss:: 0.08370020240545273 Training Accuracy:: 0.9898649454116821 Validation Accuracy:: 0.7015998959541321\n",
      "Epoch 26, CIFAR-10 Batch 1:  Loss:: 0.14087259769439697 Training Accuracy:: 0.9560811519622803 Validation Accuracy:: 0.6989999413490295\n",
      "Epoch 26, CIFAR-10 Batch 2:  Loss:: 0.07841631025075912 Training Accuracy:: 0.9966216683387756 Validation Accuracy:: 0.7149998545646667\n",
      "Epoch 26, CIFAR-10 Batch 3:  Loss:: 0.07795695215463638 Training Accuracy:: 0.9797297716140747 Validation Accuracy:: 0.7151998281478882\n",
      "Epoch 26, CIFAR-10 Batch 4:  Loss:: 0.06925784796476364 Training Accuracy:: 0.9898649454116821 Validation Accuracy:: 0.7055999040603638\n",
      "Epoch 26, CIFAR-10 Batch 5:  Loss:: 0.098879873752594 Training Accuracy:: 0.9763513803482056 Validation Accuracy:: 0.6939998865127563\n",
      "Epoch 27, CIFAR-10 Batch 1:  Loss:: 0.1451496034860611 Training Accuracy:: 0.962837815284729 Validation Accuracy:: 0.6901998519897461\n",
      "Epoch 27, CIFAR-10 Batch 2:  Loss:: 0.06926454603672028 Training Accuracy:: 0.9932432174682617 Validation Accuracy:: 0.7107998728752136\n",
      "Epoch 27, CIFAR-10 Batch 3:  Loss:: 0.08206597715616226 Training Accuracy:: 0.9864864945411682 Validation Accuracy:: 0.7011998295783997\n",
      "Epoch 27, CIFAR-10 Batch 4:  Loss:: 0.08389031141996384 Training Accuracy:: 0.986486554145813 Validation Accuracy:: 0.6877998113632202\n",
      "Epoch 27, CIFAR-10 Batch 5:  Loss:: 0.0906309261918068 Training Accuracy:: 0.9831081628799438 Validation Accuracy:: 0.6943997740745544\n",
      "Epoch 28, CIFAR-10 Batch 1:  Loss:: 0.1616537868976593 Training Accuracy:: 0.9527027010917664 Validation Accuracy:: 0.6867998242378235\n",
      "Epoch 28, CIFAR-10 Batch 2:  Loss:: 0.0558273009955883 Training Accuracy:: 1.0 Validation Accuracy:: 0.715199887752533\n",
      "Epoch 28, CIFAR-10 Batch 3:  Loss:: 0.05453796684741974 Training Accuracy:: 0.9898648262023926 Validation Accuracy:: 0.7145999073982239\n",
      "Epoch 28, CIFAR-10 Batch 4:  Loss:: 0.06382322311401367 Training Accuracy:: 0.986486554145813 Validation Accuracy:: 0.7033998370170593\n",
      "Epoch 28, CIFAR-10 Batch 5:  Loss:: 0.09086048603057861 Training Accuracy:: 0.9831081628799438 Validation Accuracy:: 0.68479984998703\n",
      "Epoch 29, CIFAR-10 Batch 1:  Loss:: 0.11109022051095963 Training Accuracy:: 0.9695945978164673 Validation Accuracy:: 0.7001999020576477\n",
      "Epoch 29, CIFAR-10 Batch 2:  Loss:: 0.05092532932758331 Training Accuracy:: 0.9932433366775513 Validation Accuracy:: 0.7071998119354248\n",
      "Epoch 29, CIFAR-10 Batch 3:  Loss:: 0.04402875527739525 Training Accuracy:: 1.0 Validation Accuracy:: 0.7187998294830322\n",
      "Epoch 29, CIFAR-10 Batch 4:  Loss:: 0.05367448925971985 Training Accuracy:: 0.9966216087341309 Validation Accuracy:: 0.6963998675346375\n",
      "Epoch 29, CIFAR-10 Batch 5:  Loss:: 0.06931135058403015 Training Accuracy:: 0.9932433366775513 Validation Accuracy:: 0.6899998188018799\n",
      "Epoch 30, CIFAR-10 Batch 1:  Loss:: 0.0955507680773735 Training Accuracy:: 0.9797297716140747 Validation Accuracy:: 0.7013999223709106\n",
      "Epoch 30, CIFAR-10 Batch 2:  Loss:: 0.04345932975411415 Training Accuracy:: 0.9932432174682617 Validation Accuracy:: 0.7045998573303223\n",
      "Epoch 30, CIFAR-10 Batch 3:  Loss:: 0.03616056218743324 Training Accuracy:: 1.0 Validation Accuracy:: 0.7189998626708984\n",
      "Epoch 30, CIFAR-10 Batch 4:  Loss:: 0.06049954146146774 Training Accuracy:: 0.9932433366775513 Validation Accuracy:: 0.6973998546600342\n",
      "Epoch 30, CIFAR-10 Batch 5:  Loss:: 0.0483304038643837 Training Accuracy:: 0.9932432770729065 Validation Accuracy:: 0.6971998810768127\n",
      "Epoch 31, CIFAR-10 Batch 1:  Loss:: 0.07527781277894974 Training Accuracy:: 0.9898649454116821 Validation Accuracy:: 0.7001999020576477\n",
      "Epoch 31, CIFAR-10 Batch 2:  Loss:: 0.048673275858163834 Training Accuracy:: 0.9932432174682617 Validation Accuracy:: 0.7151998281478882\n",
      "Epoch 31, CIFAR-10 Batch 3:  Loss:: 0.044850725680589676 Training Accuracy:: 0.9932432174682617 Validation Accuracy:: 0.71319979429245\n",
      "Epoch 31, CIFAR-10 Batch 4:  Loss:: 0.047034598886966705 Training Accuracy:: 0.9932433366775513 Validation Accuracy:: 0.7207998633384705\n",
      "Epoch 31, CIFAR-10 Batch 5:  Loss:: 0.05311186984181404 Training Accuracy:: 0.9898648858070374 Validation Accuracy:: 0.6995998620986938\n",
      "Epoch 32, CIFAR-10 Batch 1:  Loss:: 0.05020488426089287 Training Accuracy:: 0.9966216087341309 Validation Accuracy:: 0.7047998905181885\n",
      "Epoch 32, CIFAR-10 Batch 2:  Loss:: 0.03311701491475105 Training Accuracy:: 1.0 Validation Accuracy:: 0.7199998497962952\n",
      "Epoch 32, CIFAR-10 Batch 3:  Loss:: 0.029240772128105164 Training Accuracy:: 0.9966216087341309 Validation Accuracy:: 0.7245998978614807\n",
      "Epoch 32, CIFAR-10 Batch 4:  Loss:: 0.026163902133703232 Training Accuracy:: 0.9966217279434204 Validation Accuracy:: 0.7207998633384705\n",
      "Epoch 32, CIFAR-10 Batch 5:  Loss:: 0.040948957204818726 Training Accuracy:: 0.9898648262023926 Validation Accuracy:: 0.701999843120575\n",
      "Epoch 33, CIFAR-10 Batch 1:  Loss:: 0.040068384259939194 Training Accuracy:: 0.9966216087341309 Validation Accuracy:: 0.7125998735427856\n",
      "Epoch 33, CIFAR-10 Batch 2:  Loss:: 0.027034269645810127 Training Accuracy:: 1.0 Validation Accuracy:: 0.7167998552322388\n",
      "Epoch 33, CIFAR-10 Batch 3:  Loss:: 0.021951761096715927 Training Accuracy:: 1.0 Validation Accuracy:: 0.7183998823165894\n",
      "Epoch 33, CIFAR-10 Batch 4:  Loss:: 0.03041223995387554 Training Accuracy:: 0.9966216087341309 Validation Accuracy:: 0.707399845123291\n",
      "Epoch 33, CIFAR-10 Batch 5:  Loss:: 0.02306569181382656 Training Accuracy:: 1.0 Validation Accuracy:: 0.7111998796463013\n",
      "Epoch 34, CIFAR-10 Batch 1:  Loss:: 0.036730557680130005 Training Accuracy:: 0.9966217279434204 Validation Accuracy:: 0.7029998302459717\n",
      "Epoch 34, CIFAR-10 Batch 2:  Loss:: 0.0209059901535511 Training Accuracy:: 1.0 Validation Accuracy:: 0.7143998146057129\n",
      "Epoch 34, CIFAR-10 Batch 3:  Loss:: 0.02294200286269188 Training Accuracy:: 0.9966216087341309 Validation Accuracy:: 0.7123998403549194\n",
      "Epoch 34, CIFAR-10 Batch 4:  Loss:: 0.026865556836128235 Training Accuracy:: 1.0 Validation Accuracy:: 0.7029998302459717\n",
      "Epoch 34, CIFAR-10 Batch 5:  Loss:: 0.029992975294589996 Training Accuracy:: 0.9966216683387756 Validation Accuracy:: 0.7053998708724976\n",
      "Epoch 35, CIFAR-10 Batch 1:  Loss:: 0.031270187348127365 Training Accuracy:: 0.9966216087341309 Validation Accuracy:: 0.7075998783111572\n",
      "Epoch 35, CIFAR-10 Batch 2:  Loss:: 0.019759999588131905 Training Accuracy:: 1.0 Validation Accuracy:: 0.709199845790863\n",
      "Epoch 35, CIFAR-10 Batch 3:  Loss:: 0.03344566747546196 Training Accuracy:: 0.9932433366775513 Validation Accuracy:: 0.7149999141693115\n",
      "Epoch 35, CIFAR-10 Batch 4:  Loss:: 0.020902017131447792 Training Accuracy:: 0.9966216087341309 Validation Accuracy:: 0.7233998775482178\n",
      "Epoch 35, CIFAR-10 Batch 5:  Loss:: 0.02059773914515972 Training Accuracy:: 1.0 Validation Accuracy:: 0.701999843120575\n",
      "Epoch 36, CIFAR-10 Batch 1:  Loss:: 0.030122729018330574 Training Accuracy:: 0.9966216087341309 Validation Accuracy:: 0.7043998837471008\n",
      "Epoch 36, CIFAR-10 Batch 2:  Loss:: 0.013560298830270767 Training Accuracy:: 1.0 Validation Accuracy:: 0.7129998207092285\n",
      "Epoch 36, CIFAR-10 Batch 3:  Loss:: 0.023112157359719276 Training Accuracy:: 1.0 Validation Accuracy:: 0.7115998864173889\n",
      "Epoch 36, CIFAR-10 Batch 4:  Loss:: 0.018210427835583687 Training Accuracy:: 0.9966216087341309 Validation Accuracy:: 0.7221998572349548\n",
      "Epoch 36, CIFAR-10 Batch 5:  Loss:: 0.016607865691184998 Training Accuracy:: 1.0 Validation Accuracy:: 0.7211998701095581\n",
      "Epoch 37, CIFAR-10 Batch 1:  Loss:: 0.02567940205335617 Training Accuracy:: 1.0 Validation Accuracy:: 0.7115998268127441\n",
      "Epoch 37, CIFAR-10 Batch 2:  Loss:: 0.022548846900463104 Training Accuracy:: 1.0 Validation Accuracy:: 0.6977999210357666\n",
      "Epoch 37, CIFAR-10 Batch 3:  Loss:: 0.020052844658493996 Training Accuracy:: 0.9966217279434204 Validation Accuracy:: 0.7143999338150024\n",
      "Epoch 37, CIFAR-10 Batch 4:  Loss:: 0.019877798855304718 Training Accuracy:: 0.9966216683387756 Validation Accuracy:: 0.7175998687744141\n",
      "Epoch 37, CIFAR-10 Batch 5:  Loss:: 0.013063411228358746 Training Accuracy:: 1.0 Validation Accuracy:: 0.7177999019622803\n",
      "Epoch 38, CIFAR-10 Batch 1:  Loss:: 0.0273460503667593 Training Accuracy:: 0.9966217279434204 Validation Accuracy:: 0.71399986743927\n",
      "Epoch 38, CIFAR-10 Batch 2:  Loss:: 0.01429549790918827 Training Accuracy:: 1.0 Validation Accuracy:: 0.7109998464584351\n",
      "Epoch 38, CIFAR-10 Batch 3:  Loss:: 0.016444092616438866 Training Accuracy:: 1.0 Validation Accuracy:: 0.7175998687744141\n",
      "Epoch 38, CIFAR-10 Batch 4:  Loss:: 0.017624352127313614 Training Accuracy:: 1.0 Validation Accuracy:: 0.7219998240470886\n",
      "Epoch 38, CIFAR-10 Batch 5:  Loss:: 0.010863062925636768 Training Accuracy:: 1.0 Validation Accuracy:: 0.7213999032974243\n",
      "Epoch 39, CIFAR-10 Batch 1:  Loss:: 0.02043132856488228 Training Accuracy:: 1.0 Validation Accuracy:: 0.7097998261451721\n",
      "Epoch 39, CIFAR-10 Batch 2:  Loss:: 0.03306137025356293 Training Accuracy:: 0.9898649454116821 Validation Accuracy:: 0.7005998492240906\n",
      "Epoch 39, CIFAR-10 Batch 3:  Loss:: 0.011955763213336468 Training Accuracy:: 1.0 Validation Accuracy:: 0.7145998477935791\n",
      "Epoch 39, CIFAR-10 Batch 4:  Loss:: 0.01637846790254116 Training Accuracy:: 0.9966217279434204 Validation Accuracy:: 0.7079998254776001\n",
      "Epoch 39, CIFAR-10 Batch 5:  Loss:: 0.018831372261047363 Training Accuracy:: 1.0 Validation Accuracy:: 0.7011998891830444\n",
      "Epoch 40, CIFAR-10 Batch 1:  Loss:: 0.019430017098784447 Training Accuracy:: 0.9966216087341309 Validation Accuracy:: 0.7119998931884766\n",
      "Epoch 40, CIFAR-10 Batch 2:  Loss:: 0.015120044350624084 Training Accuracy:: 1.0 Validation Accuracy:: 0.6995998620986938\n",
      "Epoch 40, CIFAR-10 Batch 3:  Loss:: 0.01944660022854805 Training Accuracy:: 0.9966217279434204 Validation Accuracy:: 0.7113997936248779\n",
      "Epoch 40, CIFAR-10 Batch 4:  Loss:: 0.008758730255067348 Training Accuracy:: 1.0 Validation Accuracy:: 0.7201998829841614\n",
      "Epoch 40, CIFAR-10 Batch 5:  Loss:: 0.01228753849864006 Training Accuracy:: 1.0 Validation Accuracy:: 0.7163998484611511\n",
      "Epoch 41, CIFAR-10 Batch 1:  Loss:: 0.017139509320259094 Training Accuracy:: 0.9966216087341309 Validation Accuracy:: 0.7175998687744141\n",
      "Epoch 41, CIFAR-10 Batch 2:  Loss:: 0.018291212618350983 Training Accuracy:: 1.0 Validation Accuracy:: 0.7059999108314514\n",
      "Epoch 41, CIFAR-10 Batch 3:  Loss:: 0.02774912118911743 Training Accuracy:: 0.9932432174682617 Validation Accuracy:: 0.694399893283844\n",
      "Epoch 41, CIFAR-10 Batch 4:  Loss:: 0.01988985948264599 Training Accuracy:: 0.9966217279434204 Validation Accuracy:: 0.6983999013900757\n",
      "Epoch 41, CIFAR-10 Batch 5:  Loss:: 0.014440211467444897 Training Accuracy:: 1.0 Validation Accuracy:: 0.7159999012947083\n",
      "Epoch 42, CIFAR-10 Batch 1:  Loss:: 0.021196085959672928 Training Accuracy:: 1.0 Validation Accuracy:: 0.7141997814178467\n",
      "Epoch 42, CIFAR-10 Batch 2:  Loss:: 0.015805033966898918 Training Accuracy:: 1.0 Validation Accuracy:: 0.6967998743057251\n",
      "Epoch 42, CIFAR-10 Batch 3:  Loss:: 0.015024963766336441 Training Accuracy:: 1.0 Validation Accuracy:: 0.704399824142456\n",
      "Epoch 42, CIFAR-10 Batch 4:  Loss:: 0.01788886822760105 Training Accuracy:: 0.9966216683387756 Validation Accuracy:: 0.7079998254776001\n",
      "Epoch 42, CIFAR-10 Batch 5:  Loss:: 0.00914971623569727 Training Accuracy:: 1.0 Validation Accuracy:: 0.7121998071670532\n",
      "Epoch 43, CIFAR-10 Batch 1:  Loss:: 0.018798207864165306 Training Accuracy:: 1.0 Validation Accuracy:: 0.7053998708724976\n",
      "Epoch 43, CIFAR-10 Batch 2:  Loss:: 0.012147555127739906 Training Accuracy:: 0.9966216087341309 Validation Accuracy:: 0.7041999101638794\n",
      "Epoch 43, CIFAR-10 Batch 3:  Loss:: 0.013921486213803291 Training Accuracy:: 1.0 Validation Accuracy:: 0.7077998518943787\n",
      "Epoch 43, CIFAR-10 Batch 4:  Loss:: 0.010100241750478745 Training Accuracy:: 1.0 Validation Accuracy:: 0.7075998187065125\n",
      "Epoch 43, CIFAR-10 Batch 5:  Loss:: 0.009837416000664234 Training Accuracy:: 1.0 Validation Accuracy:: 0.7119998931884766\n",
      "Epoch 44, CIFAR-10 Batch 1:  Loss:: 0.014456532895565033 Training Accuracy:: 1.0 Validation Accuracy:: 0.7159998416900635\n",
      "Epoch 44, CIFAR-10 Batch 2:  Loss:: 0.015829432755708694 Training Accuracy:: 1.0 Validation Accuracy:: 0.7053998112678528\n",
      "Epoch 44, CIFAR-10 Batch 3:  Loss:: 0.011407575570046902 Training Accuracy:: 1.0 Validation Accuracy:: 0.7081998586654663\n",
      "Epoch 44, CIFAR-10 Batch 4:  Loss:: 0.011132991872727871 Training Accuracy:: 1.0 Validation Accuracy:: 0.7105998992919922\n",
      "Epoch 44, CIFAR-10 Batch 5:  Loss:: 0.014433840289711952 Training Accuracy:: 1.0 Validation Accuracy:: 0.7029998302459717\n",
      "Epoch 45, CIFAR-10 Batch 1:  Loss:: 0.011447113007307053 Training Accuracy:: 1.0 Validation Accuracy:: 0.7081999182701111\n",
      "Epoch 45, CIFAR-10 Batch 2:  Loss:: 0.012386644259095192 Training Accuracy:: 1.0 Validation Accuracy:: 0.704399824142456\n",
      "Epoch 45, CIFAR-10 Batch 3:  Loss:: 0.009285198524594307 Training Accuracy:: 1.0 Validation Accuracy:: 0.7091999053955078\n",
      "Epoch 45, CIFAR-10 Batch 4:  Loss:: 0.013019309379160404 Training Accuracy:: 1.0 Validation Accuracy:: 0.7077998518943787\n",
      "Epoch 45, CIFAR-10 Batch 5:  Loss:: 0.008692096918821335 Training Accuracy:: 1.0 Validation Accuracy:: 0.7139998078346252\n",
      "Epoch 46, CIFAR-10 Batch 1:  Loss:: 0.01836598664522171 Training Accuracy:: 0.9932432174682617 Validation Accuracy:: 0.7209998965263367\n",
      "Epoch 46, CIFAR-10 Batch 2:  Loss:: 0.0069734095595777035 Training Accuracy:: 1.0 Validation Accuracy:: 0.7135998010635376\n",
      "Epoch 46, CIFAR-10 Batch 3:  Loss:: 0.007410728372633457 Training Accuracy:: 1.0 Validation Accuracy:: 0.7055999040603638\n",
      "Epoch 46, CIFAR-10 Batch 4:  Loss:: 0.013319551013410091 Training Accuracy:: 0.9966216087341309 Validation Accuracy:: 0.7121998071670532\n",
      "Epoch 46, CIFAR-10 Batch 5:  Loss:: 0.010252661071717739 Training Accuracy:: 1.0 Validation Accuracy:: 0.7093997597694397\n",
      "Epoch 47, CIFAR-10 Batch 1:  Loss:: 0.009428978897631168 Training Accuracy:: 0.9966216087341309 Validation Accuracy:: 0.7147998809814453\n",
      "Epoch 47, CIFAR-10 Batch 2:  Loss:: 0.0043606385588645935 Training Accuracy:: 1.0 Validation Accuracy:: 0.7175998091697693\n",
      "Epoch 47, CIFAR-10 Batch 3:  Loss:: 0.008321892470121384 Training Accuracy:: 1.0 Validation Accuracy:: 0.7005998492240906\n",
      "Epoch 47, CIFAR-10 Batch 4:  Loss:: 0.02651376836001873 Training Accuracy:: 0.9932432770729065 Validation Accuracy:: 0.695399820804596\n",
      "Epoch 47, CIFAR-10 Batch 5:  Loss:: 0.0064481464214622974 Training Accuracy:: 1.0 Validation Accuracy:: 0.7063998579978943\n",
      "Epoch 48, CIFAR-10 Batch 1:  Loss:: 0.008461900055408478 Training Accuracy:: 1.0 Validation Accuracy:: 0.7075998783111572\n",
      "Epoch 48, CIFAR-10 Batch 2:  Loss:: 0.005186889786273241 Training Accuracy:: 1.0 Validation Accuracy:: 0.7159998416900635\n",
      "Epoch 48, CIFAR-10 Batch 3:  Loss:: 0.012336223386228085 Training Accuracy:: 1.0 Validation Accuracy:: 0.6867998242378235\n",
      "Epoch 48, CIFAR-10 Batch 4:  Loss:: 0.0099859070032835 Training Accuracy:: 1.0 Validation Accuracy:: 0.7113998532295227\n",
      "Epoch 48, CIFAR-10 Batch 5:  Loss:: 0.006976565811783075 Training Accuracy:: 1.0 Validation Accuracy:: 0.7105998396873474\n",
      "Epoch 49, CIFAR-10 Batch 1:  Loss:: 0.007872164249420166 Training Accuracy:: 1.0 Validation Accuracy:: 0.718599796295166\n",
      "Epoch 49, CIFAR-10 Batch 2:  Loss:: 0.00604474451392889 Training Accuracy:: 1.0 Validation Accuracy:: 0.7125998735427856\n",
      "Epoch 49, CIFAR-10 Batch 3:  Loss:: 0.00630229152739048 Training Accuracy:: 1.0 Validation Accuracy:: 0.7021999359130859\n",
      "Epoch 49, CIFAR-10 Batch 4:  Loss:: 0.0061471834778785706 Training Accuracy:: 1.0 Validation Accuracy:: 0.7015998363494873\n",
      "Epoch 49, CIFAR-10 Batch 5:  Loss:: 0.004220122471451759 Training Accuracy:: 1.0 Validation Accuracy:: 0.7141998410224915\n",
      "Epoch 50, CIFAR-10 Batch 1:  Loss:: 0.013738950714468956 Training Accuracy:: 0.9932433366775513 Validation Accuracy:: 0.7113999128341675\n",
      "Epoch 50, CIFAR-10 Batch 2:  Loss:: 0.010398351587355137 Training Accuracy:: 1.0 Validation Accuracy:: 0.7147998213768005\n",
      "Epoch 50, CIFAR-10 Batch 3:  Loss:: 0.006615419406443834 Training Accuracy:: 1.0 Validation Accuracy:: 0.7049998044967651\n",
      "Epoch 50, CIFAR-10 Batch 4:  Loss:: 0.007318616379052401 Training Accuracy:: 1.0 Validation Accuracy:: 0.7137998938560486\n",
      "Epoch 50, CIFAR-10 Batch 5:  Loss:: 0.005167369730770588 Training Accuracy:: 1.0 Validation Accuracy:: 0.7173998355865479\n"
     ]
    }
   ],
   "source": [
    "\"\"\"\n",
    "DON'T MODIFY ANYTHING IN THIS CELL\n",
    "\"\"\"\n",
    "save_model_path = './image_classification'\n",
    "\n",
    "print('Training...')\n",
    "with tf.Session() as sess:\n",
    "    # Initializing the variables\n",
    "    sess.run(tf.global_variables_initializer())\n",
    "    \n",
    "    # Training cycle\n",
    "    for epoch in range(epochs):\n",
    "        # Loop over all batches\n",
    "        n_batches = 5\n",
    "        for batch_i in range(1, n_batches + 1):\n",
    "            for batch_features, batch_labels in helper.load_preprocess_training_batch(batch_i, batch_size):\n",
    "                train_neural_network(sess, optimizer, keep_probability, batch_features, batch_labels)\n",
    "            print('Epoch {:>2}, CIFAR-10 Batch {}:  '.format(epoch + 1, batch_i), end='')\n",
    "            print_stats(sess, batch_features, batch_labels, cost, accuracy)\n",
    "            \n",
    "    # Save Model\n",
    "    saver = tf.train.Saver()\n",
    "    save_path = saver.save(sess, save_model_path)"
   ]
  },
  {
   "cell_type": "markdown",
   "metadata": {
    "deletable": true,
    "editable": true
   },
   "source": [
    "# Checkpoint\n",
    "The model has been saved to disk.\n",
    "## Test Model\n",
    "Test your model against the test dataset.  This will be your final accuracy. You should have an accuracy greater than 50%. If you don't, keep tweaking the model architecture and parameters."
   ]
  },
  {
   "cell_type": "code",
   "execution_count": 25,
   "metadata": {
    "collapsed": false,
    "deletable": true,
    "editable": true
   },
   "outputs": [
    {
     "name": "stdout",
     "output_type": "stream",
     "text": [
      "Testing Accuracy: 0.7082605689764023\n",
      "\n"
     ]
    },
    {
     "data": {
      "image/png": "[encoded data removed]",
      "text/plain": [
       "<matplotlib.figure.Figure at 0x7fcca72939b0>"
      ]
     },
     "metadata": {
      "image/png": {
       "height": 319,
       "width": 349
      }
     },
     "output_type": "display_data"
    }
   ],
   "source": [
    "\"\"\"\n",
    "DON'T MODIFY ANYTHING IN THIS CELL\n",
    "\"\"\"\n",
    "%matplotlib inline\n",
    "%config InlineBackend.figure_format = 'retina'\n",
    "\n",
    "import tensorflow as tf\n",
    "import pickle\n",
    "import helper\n",
    "import random\n",
    "\n",
    "# Set batch size if not already set\n",
    "try:\n",
    "    if batch_size:\n",
    "        pass\n",
    "except NameError:\n",
    "    batch_size = 64\n",
    "\n",
    "save_model_path = './image_classification'\n",
    "n_samples = 4\n",
    "top_n_predictions = 3\n",
    "\n",
    "def test_model():\n",
    "    \"\"\"\n",
    "    Test the saved model against the test dataset\n",
    "    \"\"\"\n",
    "\n",
    "    test_features, test_labels = pickle.load(open('preprocess_training.p', mode='rb'))\n",
    "    loaded_graph = tf.Graph()\n",
    "\n",
    "    with tf.Session(graph=loaded_graph) as sess:\n",
    "        # Load model\n",
    "        loader = tf.train.import_meta_graph(save_model_path + '.meta')\n",
    "        loader.restore(sess, save_model_path)\n",
    "\n",
    "        # Get Tensors from loaded model\n",
    "        loaded_x = loaded_graph.get_tensor_by_name('x:0')\n",
    "        loaded_y = loaded_graph.get_tensor_by_name('y:0')\n",
    "        loaded_keep_prob = loaded_graph.get_tensor_by_name('keep_prob:0')\n",
    "        loaded_logits = loaded_graph.get_tensor_by_name('logits:0')\n",
    "        loaded_acc = loaded_graph.get_tensor_by_name('accuracy:0')\n",
    "        \n",
    "        # Get accuracy in batches for memory limitations\n",
    "        test_batch_acc_total = 0\n",
    "        test_batch_count = 0\n",
    "        \n",
    "        for train_feature_batch, train_label_batch in helper.batch_features_labels(test_features, test_labels, batch_size):\n",
    "            test_batch_acc_total += sess.run(\n",
    "                loaded_acc,\n",
    "                feed_dict={loaded_x: train_feature_batch, loaded_y: train_label_batch, loaded_keep_prob: 1.0})\n",
    "            test_batch_count += 1\n",
    "\n",
    "        print('Testing Accuracy: {}\\n'.format(test_batch_acc_total/test_batch_count))\n",
    "\n",
    "        # Print Random Samples\n",
    "        random_test_features, random_test_labels = tuple(zip(*random.sample(list(zip(test_features, test_labels)), n_samples)))\n",
    "        random_test_predictions = sess.run(\n",
    "            tf.nn.top_k(tf.nn.softmax(loaded_logits), top_n_predictions),\n",
    "            feed_dict={loaded_x: random_test_features, loaded_y: random_test_labels, loaded_keep_prob: 1.0})\n",
    "        helper.display_image_predictions(random_test_features, random_test_labels, random_test_predictions)\n",
    "\n",
    "\n",
    "test_model()"
   ]
  },
  {
   "cell_type": "markdown",
   "metadata": {
    "deletable": true,
    "editable": true
   },
   "source": [
    "## Why 50-70% Accuracy?\n",
    "You might be wondering why you can't get an accuracy any higher. First things first, 50% isn't bad for a simple CNN.  Pure guessing would get you 10% accuracy. However, you might notice people are getting scores [well above 70%](http://rodrigob.github.io/are_we_there_yet/build/classification_datasets_results.html#43494641522d3130).  That's because we haven't taught you all there is to know about neural networks. We still need to cover a few more techniques.\n",
    "## Submitting This Project\n",
    "When submitting this project, make sure to run all the cells before saving the notebook.  Save the notebook file as \"dlnd_image_classification.ipynb\" and save it as a HTML file under \"File\" -> \"Download as\".  Include the \"helper.py\" and \"problem_unittests.py\" files in your submission."
   ]
  }
 ],
 "metadata": {
  "kernelspec": {
   "display_name": "Python 3",
   "language": "python",
   "name": "python3"
  },
  "language_info": {
   "codemirror_mode": {
    "name": "ipython",
    "version": 3
   },
   "file_extension": ".py",
   "mimetype": "text/x-python",
   "name": "python",
   "nbconvert_exporter": "python",
   "pygments_lexer": "ipython3",
   "version": "3.5.3"
  }
 },
 "nbformat": 4,
 "nbformat_minor": 0
}
